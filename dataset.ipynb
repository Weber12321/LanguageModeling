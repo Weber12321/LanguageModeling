{
 "cells": [
  {
   "cell_type": "markdown",
   "metadata": {},
   "source": [
    "# 1. SELECT DATASET"
   ]
  },
  {
   "cell_type": "code",
   "execution_count": null,
   "metadata": {},
   "outputs": [],
   "source": [
    "import datasets\n"
   ]
  },
  {
   "cell_type": "code",
   "execution_count": null,
   "metadata": {},
   "outputs": [],
   "source": [
    "#dataset = datasets.load_from_disk('Z:/Bonz/datasets/bookcorpus')\n",
    "dataset = datasets.load_dataset('bookcorpusopen', split='train', cache_dir='Z:/Bonz/datasets')"
   ]
  },
  {
   "cell_type": "code",
   "execution_count": 6,
   "metadata": {
    "execution": {
     "iopub.execute_input": "2020-12-02T13:53:22.480172Z",
     "iopub.status.busy": "2020-12-02T13:53:22.480172Z",
     "iopub.status.idle": "2020-12-02T13:53:22.491149Z",
     "shell.execute_reply": "2020-12-02T13:53:22.490147Z",
     "shell.execute_reply.started": "2020-12-02T13:53:22.480172Z"
    }
   },
   "outputs": [],
   "source": [
    "example = dataset[0:2]"
   ]
  },
  {
   "cell_type": "code",
   "execution_count": 14,
   "metadata": {
    "execution": {
     "iopub.execute_input": "2020-12-02T13:55:40.870720Z",
     "iopub.status.busy": "2020-12-02T13:55:40.870720Z",
     "iopub.status.idle": "2020-12-02T13:55:40.877700Z",
     "shell.execute_reply": "2020-12-02T13:55:40.876703Z",
     "shell.execute_reply.started": "2020-12-02T13:55:40.870720Z"
    }
   },
   "outputs": [],
   "source": [
    "def split_text(examples):\n",
    "    sentences = []\n",
    "    for example in examples['text']:\n",
    "        sen = example.split('\\n\\n')\n",
    "        sentences += list(filter(lambda s: len(s)>50, sen))\n",
    "    return {'sentences': sentences}"
   ]
  },
  {
   "cell_type": "code",
   "execution_count": 17,
   "metadata": {
    "execution": {
     "iopub.execute_input": "2020-12-02T13:56:34.357894Z",
     "iopub.status.busy": "2020-12-02T13:56:34.357894Z",
     "iopub.status.idle": "2020-12-02T14:00:41.664655Z",
     "shell.execute_reply": "2020-12-02T14:00:41.663657Z",
     "shell.execute_reply.started": "2020-12-02T13:56:34.357894Z"
    }
   },
   "outputs": [
    {
     "data": {
      "application/vnd.jupyter.widget-view+json": {
       "model_id": "67d55dee63fc4f5793cdb186fb9934f2",
       "version_major": 2,
       "version_minor": 0
      },
      "text/plain": [
       "HBox(children=(HTML(value=''), FloatProgress(value=0.0, max=18.0), HTML(value='')))"
      ]
     },
     "metadata": {},
     "output_type": "display_data"
    },
    {
     "name": "stdout",
     "output_type": "stream",
     "text": [
      "\n"
     ]
    }
   ],
   "source": [
    "splitted_dataset = dataset.map(split_text, batched=True, remove_columns=dataset.column_names)"
   ]
  },
  {
   "cell_type": "code",
   "execution_count": 34,
   "metadata": {
    "execution": {
     "iopub.execute_input": "2020-12-02T14:41:34.477468Z",
     "iopub.status.busy": "2020-12-02T14:41:34.477468Z",
     "iopub.status.idle": "2020-12-02T17:33:15.545781Z",
     "shell.execute_reply": "2020-12-02T17:33:15.544779Z",
     "shell.execute_reply.started": "2020-12-02T14:41:34.477468Z"
    }
   },
   "outputs": [
    {
     "data": {
      "application/vnd.jupyter.widget-view+json": {
       "model_id": "043ab5fa34ee4bff8919ec686fd302df",
       "version_major": 2,
       "version_minor": 0
      },
      "text/plain": [
       "HBox(children=(HTML(value=''), FloatProgress(value=0.0, max=25241.0), HTML(value='')))"
      ]
     },
     "metadata": {},
     "output_type": "display_data"
    },
    {
     "name": "stdout",
     "output_type": "stream",
     "text": [
      "\n"
     ]
    }
   ],
   "source": [
    "preprocessed_dataset = splitted_dataset.map(lambda s: tokenizer(s['sentences'], padding='max_length', truncation=True), \n",
    "                                            batched=True,\n",
    "                                            batch_size=2**10,\n",
    "                                            remove_columns=splitted_dataset.column_names,\n",
    "                                            keep_in_memory=False,\n",
    "                                            writer_batch_size=2**14,\n",
    "                                           )"
   ]
  },
  {
   "cell_type": "code",
   "execution_count": 46,
   "metadata": {
    "execution": {
     "iopub.execute_input": "2020-12-02T18:43:34.528060Z",
     "iopub.status.busy": "2020-12-02T18:43:34.528060Z",
     "iopub.status.idle": "2020-12-02T21:47:46.454530Z",
     "shell.execute_reply": "2020-12-02T21:47:46.454530Z",
     "shell.execute_reply.started": "2020-12-02T18:43:34.528060Z"
    }
   },
   "outputs": [],
   "source": [
    "preprocessed_dataset.save_to_disk('Z:/Bonz/datasets/bookcorpus')"
   ]
  },
  {
   "cell_type": "code",
   "execution_count": 45,
   "metadata": {
    "execution": {
     "iopub.execute_input": "2020-12-02T18:43:27.921919Z",
     "iopub.status.busy": "2020-12-02T18:43:27.921919Z",
     "iopub.status.idle": "2020-12-02T18:43:27.938835Z",
     "shell.execute_reply": "2020-12-02T18:43:27.937874Z",
     "shell.execute_reply.started": "2020-12-02T18:43:27.921919Z"
    }
   },
   "outputs": [
    {
     "data": {
      "text/plain": [
       "Dataset({\n",
       "    features: ['attention_mask', 'input_ids'],\n",
       "    num_rows: 25845810\n",
       "})"
      ]
     },
     "execution_count": 45,
     "metadata": {},
     "output_type": "execute_result"
    }
   ],
   "source": [
    "preprocessed_dataset"
   ]
  },
  {
   "cell_type": "code",
   "execution_count": 62,
   "metadata": {
    "execution": {
     "iopub.execute_input": "2020-12-03T08:03:29.079665Z",
     "iopub.status.busy": "2020-12-03T08:03:29.079665Z",
     "iopub.status.idle": "2020-12-03T08:03:29.093591Z",
     "shell.execute_reply": "2020-12-03T08:03:29.092592Z",
     "shell.execute_reply.started": "2020-12-03T08:03:29.079665Z"
    }
   },
   "outputs": [],
   "source": [
    "import torch\n",
    "\n",
    "def mask_token(inputs):\n",
    "    inputs = torch.LongTensor(inputs)\n",
    "    labels = inputs.clone()\n",
    "\n",
    "    # Sample a few tokens in each sequence for MLM training (with probability `self.mlm_probability`)\n",
    "    probability_matrix = torch.full(labels.shape, 0.15)\n",
    "\n",
    "    # Create special_token matrix\n",
    "    special_tokens_mask = [tokenizer.get_special_tokens_mask(label, already_has_special_tokens=True) for label in labels.tolist()]\n",
    "    special_tokens_mask = torch.tensor(special_tokens_mask, dtype=torch.bool)\n",
    "\n",
    "    probability_matrix.masked_fill_(special_tokens_mask, value=0.0)\n",
    "    masked_indices = torch.bernoulli(probability_matrix).bool()\n",
    "    labels[~masked_indices] = -100  # Only compute loss on masked tokens\n",
    "\n",
    "    # Replace masked input tokens with tokenizer.mask_token ([MASK])\n",
    "    indices_replaced = torch.bernoulli(torch.full(labels.shape, 1.0)).bool() & masked_indices\n",
    "    inputs[indices_replaced] = tokenizer.convert_tokens_to_ids(tokenizer.mask_token)\n",
    "\n",
    "    return {'input_ids': inputs.tolist(), 'labels': labels.tolist()}"
   ]
  },
  {
   "cell_type": "code",
   "execution_count": 67,
   "metadata": {
    "execution": {
     "iopub.execute_input": "2020-12-03T08:06:24.943131Z",
     "iopub.status.busy": "2020-12-03T08:06:24.942134Z",
     "iopub.status.idle": "2020-12-03T15:43:59.269581Z",
     "shell.execute_reply": "2020-12-03T15:43:59.268466Z",
     "shell.execute_reply.started": "2020-12-03T08:06:24.942134Z"
    }
   },
   "outputs": [
    {
     "data": {
      "application/vnd.jupyter.widget-view+json": {
       "model_id": "9de37c88ec8642e7a4a5a3f8790ca33a",
       "version_major": 2,
       "version_minor": 0
      },
      "text/plain": [
       "HBox(children=(HTML(value=''), FloatProgress(value=0.0, max=1578.0), HTML(value='')))"
      ]
     },
     "metadata": {},
     "output_type": "display_data"
    },
    {
     "name": "stdout",
     "output_type": "stream",
     "text": [
      "\n"
     ]
    }
   ],
   "source": [
    "masked_dataset = preprocessed_dataset.map(lambda x: mask_token(x['input_ids']),\n",
    "                                          batched=True,\n",
    "                                          batch_size=2**14,\n",
    "                                          writer_batch_size=2**16,\n",
    "                                         )"
   ]
  },
  {
   "cell_type": "code",
   "execution_count": 71,
   "metadata": {
    "execution": {
     "iopub.execute_input": "2020-12-03T16:19:34.072500Z",
     "iopub.status.busy": "2020-12-03T16:19:34.072500Z",
     "iopub.status.idle": "2020-12-03T16:19:34.579669Z",
     "shell.execute_reply": "2020-12-03T16:19:34.577675Z",
     "shell.execute_reply.started": "2020-12-03T16:19:34.072500Z"
    }
   },
   "outputs": [
    {
     "name": "stdout",
     "output_type": "stream",
     "text": [
      "0.4831111431121826\n"
     ]
    }
   ],
   "source": [
    "import time\n",
    "from torch.utils.data import DataLoader\n",
    "\n",
    "data_loader = DataLoader(masked_dataset, batch_size=256)\n",
    "s = time.time()\n",
    "for a in data_loader:\n",
    "    print(time.time()-s)\n",
    "    break"
   ]
  },
  {
   "cell_type": "code",
   "execution_count": 74,
   "metadata": {
    "execution": {
     "iopub.execute_input": "2020-12-03T16:20:41.125204Z",
     "iopub.status.busy": "2020-12-03T16:20:41.124210Z",
     "iopub.status.idle": "2020-12-03T22:35:32.119461Z",
     "shell.execute_reply": "2020-12-03T22:35:32.117459Z",
     "shell.execute_reply.started": "2020-12-03T16:20:41.125204Z"
    }
   },
   "outputs": [],
   "source": [
    "masked_dataset.save_to_disk('Z:/Bonz/datasets/bookcorpus')"
   ]
  },
  {
   "cell_type": "markdown",
   "metadata": {},
   "source": [
    "# 2. TRAIN A TOKENIZER"
   ]
  },
  {
   "cell_type": "code",
   "execution_count": 15,
   "metadata": {
    "execution": {
     "iopub.execute_input": "2020-11-24T05:59:36.172986Z",
     "iopub.status.busy": "2020-11-24T05:59:36.172986Z",
     "iopub.status.idle": "2020-11-24T05:59:36.187947Z",
     "shell.execute_reply": "2020-11-24T05:59:36.186949Z",
     "shell.execute_reply.started": "2020-11-24T05:59:36.172986Z"
    }
   },
   "outputs": [],
   "source": [
    "from tokenizers.implementations import BertWordPieceTokenizer, ByteLevelBPETokenizer\n",
    "\n",
    "# Initialize a tokenizer\n",
    "tokenizer = BertWordPieceTokenizer()\n",
    "\n",
    "# Customize training\n",
    "#tokenizer.train(files='bookcorpus.txt', vocab_size=10000, min_frequency=3, special_tokens=['<s>', '<pad>', '</s>', '<unk>', '<mask>'])\n"
   ]
  },
  {
   "cell_type": "code",
   "execution_count": 19,
   "metadata": {
    "execution": {
     "iopub.execute_input": "2020-12-02T14:21:22.424451Z",
     "iopub.status.busy": "2020-12-02T14:21:22.424451Z",
     "iopub.status.idle": "2020-12-02T14:21:24.038968Z",
     "shell.execute_reply": "2020-12-02T14:21:24.036920Z",
     "shell.execute_reply.started": "2020-12-02T14:21:22.424451Z"
    }
   },
   "outputs": [],
   "source": [
    "from transformers import BertTokenizerFast\n",
    "\n",
    "tokenizer = BertTokenizerFast.from_pretrained('bert-base-uncased', model_max_length=512)"
   ]
  },
  {
   "cell_type": "code",
   "execution_count": 30,
   "metadata": {
    "collapsed": true,
    "execution": {
     "iopub.execute_input": "2020-11-24T06:06:20.712931Z",
     "iopub.status.busy": "2020-11-24T06:06:20.712931Z",
     "iopub.status.idle": "2020-11-24T06:06:20.729853Z",
     "shell.execute_reply": "2020-11-24T06:06:20.728856Z",
     "shell.execute_reply.started": "2020-11-24T06:06:20.712931Z"
    },
    "jupyter": {
     "outputs_hidden": true
    }
   },
   "outputs": [
    {
     "data": {
      "text/plain": [
       "['[CLS]',\n",
       " 'what',\n",
       " 'are',\n",
       " 'you',\n",
       " 'play',\n",
       " '##in',\n",
       " '?',\n",
       " '[SEP]',\n",
       " '[PAD]',\n",
       " '[PAD]',\n",
       " '[PAD]',\n",
       " '[PAD]',\n",
       " '[PAD]',\n",
       " '[PAD]',\n",
       " '[PAD]',\n",
       " '[PAD]',\n",
       " '[PAD]',\n",
       " '[PAD]',\n",
       " '[PAD]',\n",
       " '[PAD]',\n",
       " '[PAD]',\n",
       " '[PAD]',\n",
       " '[PAD]',\n",
       " '[PAD]',\n",
       " '[PAD]',\n",
       " '[PAD]',\n",
       " '[PAD]',\n",
       " '[PAD]',\n",
       " '[PAD]',\n",
       " '[PAD]',\n",
       " '[PAD]',\n",
       " '[PAD]',\n",
       " '[PAD]',\n",
       " '[PAD]',\n",
       " '[PAD]',\n",
       " '[PAD]',\n",
       " '[PAD]',\n",
       " '[PAD]',\n",
       " '[PAD]',\n",
       " '[PAD]',\n",
       " '[PAD]',\n",
       " '[PAD]',\n",
       " '[PAD]',\n",
       " '[PAD]',\n",
       " '[PAD]',\n",
       " '[PAD]',\n",
       " '[PAD]',\n",
       " '[PAD]',\n",
       " '[PAD]',\n",
       " '[PAD]',\n",
       " '[PAD]',\n",
       " '[PAD]',\n",
       " '[PAD]',\n",
       " '[PAD]',\n",
       " '[PAD]',\n",
       " '[PAD]',\n",
       " '[PAD]',\n",
       " '[PAD]',\n",
       " '[PAD]',\n",
       " '[PAD]',\n",
       " '[PAD]',\n",
       " '[PAD]',\n",
       " '[PAD]',\n",
       " '[PAD]',\n",
       " '[PAD]',\n",
       " '[PAD]',\n",
       " '[PAD]',\n",
       " '[PAD]',\n",
       " '[PAD]',\n",
       " '[PAD]',\n",
       " '[PAD]',\n",
       " '[PAD]',\n",
       " '[PAD]',\n",
       " '[PAD]',\n",
       " '[PAD]',\n",
       " '[PAD]',\n",
       " '[PAD]',\n",
       " '[PAD]',\n",
       " '[PAD]',\n",
       " '[PAD]',\n",
       " '[PAD]',\n",
       " '[PAD]',\n",
       " '[PAD]',\n",
       " '[PAD]',\n",
       " '[PAD]',\n",
       " '[PAD]',\n",
       " '[PAD]',\n",
       " '[PAD]',\n",
       " '[PAD]',\n",
       " '[PAD]',\n",
       " '[PAD]',\n",
       " '[PAD]',\n",
       " '[PAD]',\n",
       " '[PAD]',\n",
       " '[PAD]',\n",
       " '[PAD]',\n",
       " '[PAD]',\n",
       " '[PAD]',\n",
       " '[PAD]',\n",
       " '[PAD]',\n",
       " '[PAD]',\n",
       " '[PAD]',\n",
       " '[PAD]',\n",
       " '[PAD]',\n",
       " '[PAD]',\n",
       " '[PAD]',\n",
       " '[PAD]',\n",
       " '[PAD]',\n",
       " '[PAD]',\n",
       " '[PAD]',\n",
       " '[PAD]',\n",
       " '[PAD]',\n",
       " '[PAD]',\n",
       " '[PAD]',\n",
       " '[PAD]',\n",
       " '[PAD]',\n",
       " '[PAD]',\n",
       " '[PAD]',\n",
       " '[PAD]',\n",
       " '[PAD]',\n",
       " '[PAD]',\n",
       " '[PAD]',\n",
       " '[PAD]',\n",
       " '[PAD]',\n",
       " '[PAD]',\n",
       " '[PAD]',\n",
       " '[PAD]',\n",
       " '[PAD]']"
      ]
     },
     "execution_count": 30,
     "metadata": {},
     "output_type": "execute_result"
    }
   ],
   "source": [
    "tokenizer.encode('This is Duc', padding='max_length')\n",
    "tokenizer.convert_ids_to_tokens(tokenizer.encode('What are you playin?', padding='max_length'))"
   ]
  },
  {
   "cell_type": "code",
   "execution_count": 25,
   "metadata": {
    "execution": {
     "iopub.execute_input": "2020-11-24T06:03:53.037398Z",
     "iopub.status.busy": "2020-11-24T06:03:53.037398Z",
     "iopub.status.idle": "2020-11-24T06:03:53.053650Z",
     "shell.execute_reply": "2020-11-24T06:03:53.052652Z",
     "shell.execute_reply.started": "2020-11-24T06:03:53.037398Z"
    }
   },
   "outputs": [
    {
     "data": {
      "text/plain": [
       "{'unk_token': '[UNK]',\n",
       " 'sep_token': '[SEP]',\n",
       " 'pad_token': '[PAD]',\n",
       " 'cls_token': '[CLS]',\n",
       " 'mask_token': '[MASK]'}"
      ]
     },
     "execution_count": 25,
     "metadata": {},
     "output_type": "execute_result"
    }
   ],
   "source": [
    "tokenizer.special_tokens_map"
   ]
  }
 ],
 "metadata": {
  "kernelspec": {
   "display_name": "Python 3",
   "language": "python",
   "name": "python3"
  },
  "language_info": {
   "codemirror_mode": {
    "name": "ipython",
    "version": 3
   },
   "file_extension": ".py",
   "mimetype": "text/x-python",
   "name": "python",
   "nbconvert_exporter": "python",
   "pygments_lexer": "ipython3",
   "version": "3.7.7"
  }
 },
 "nbformat": 4,
 "nbformat_minor": 4
}
